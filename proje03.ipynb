{
  "nbformat": 4,
  "nbformat_minor": 0,
  "metadata": {
    "colab": {
      "name": "proje03.ipynb",
      "provenance": [],
      "authorship_tag": "ABX9TyPT1+fXzrOUupu8hdcIGMys",
      "include_colab_link": true
    },
    "kernelspec": {
      "name": "python3",
      "display_name": "Python 3"
    },
    "language_info": {
      "name": "python"
    }
  },
  "cells": [
    {
      "cell_type": "markdown",
      "metadata": {
        "id": "view-in-github",
        "colab_type": "text"
      },
      "source": [
        "<a href=\"https://colab.research.google.com/github/omeratifyasar/Bilmece-Oyunu/blob/main/proje03.ipynb\" target=\"_parent\"><img src=\"https://colab.research.google.com/assets/colab-badge.svg\" alt=\"Open In Colab\"/></a>"
      ]
    },
    {
      "cell_type": "code",
      "execution_count": null,
      "metadata": {
        "colab": {
          "base_uri": "https://localhost:8080/"
        },
        "id": "2KQiCNvUqQxs",
        "outputId": "4dfdb8ab-9a3a-4aff-bec9-d495b4e31207"
      },
      "outputs": [
        {
          "output_type": "stream",
          "name": "stdout",
          "text": [
            "################################################################################\n",
            "############################## <<MİNİ TESTE HOŞGELDİN :) >> #############################\n",
            "################################################################################\n",
            "Cevaplarınızı Evet ya da Hayır olarak giriniz.\n"
          ]
        }
      ],
      "source": [
        "#mini test\n",
        "print(\"#\"*80)\n",
        "print(\"#\"*30 + \" <<MİNİ TESTE HOŞGELDİN :) >> \"+\"#\"*29)\n",
        "print(\"#\"*80 )\n",
        "print(\"Cevaplarınızı Evet ya da Hayır olarak giriniz.\")\n",
        "isim = input(\"İsminizi giriniz: \")\n",
        "print(\"Merhaba \" + isim + \" Hadi Başlayalım ! \")\n",
        "sorular = [\"Türkiye'nin başkneti Ankaradır\", \"TÜİK tarafından açıklanan vatandaş sayımız 84 milyondur.\", \"Ankara'da deniz vardır\", \"Hacettepe Üniversitesi 1967 ylında kurulmuştur\",\"Dünyada 6 tane okyanus vardır\"]\n",
        "cevaplar = [\"evet\", \"evet\", \"hayır\", \"evet\", \"hayır\"]\n",
        "puan = 0\n",
        "\n",
        "print(\"1.\" + sorular[0])\n",
        "cevap = input(\"Cevabınız: \")\n",
        "if cevap == cevaplar[0]:\n",
        "  print(\"Doğru bildiniz\")\n",
        "else:\n",
        "  print(\"Yanlış cevap\")\n",
        " \n",
        "print(\"2.\" + sorular[1])\n",
        "cevap = input(\"Cevabınız: \")\n",
        "if cevap == cevaplar[1]:\n",
        "  print(\"Doğru bildiniz\")\n",
        "else:\n",
        "  print(\"Yanlış cevap\")\n",
        "\n",
        "print(\"3.\" + sorular[2])\n",
        "cevap = input(\"Cevabınız: \")\n",
        "if cevap == cevaplar[2]:\n",
        "  print(\"Doğru bildiniz\")\n",
        "else:\n",
        "  print(\"Yanlış cevap\")\n",
        "\n",
        "print(\"4.\" + sorular[3])\n",
        "cevap = input(\"Cevabınız: \")\n",
        "if cevap == cevaplar[3]:\n",
        "  print(\"Doğru bildiniz\")\n",
        "else:\n",
        "  print(\"Yanlış cevap\")\n",
        "\n",
        "print(\"5.\" + sorular[4])\n",
        "cevap = input(\"Cevabınız: \")\n",
        "if cevap == cevaplar[4]:\n",
        "  print(\"Doğru bildiniz\")\n",
        "else:\n",
        "  print(\"Yanlış cevap\")\n",
        "\n",
        "print(\"Mini Testten  Cikmak Istiyorsaniz\\n'H' tusuna basiniz\\nDevam Etmek Icin Baska Bir Tusa Basiniz \")\n",
        "devam = input(\">>>>\")\n",
        "devam =devam.upper()"
      ]
    }
  ]
}